{
  "nbformat": 4,
  "nbformat_minor": 0,
  "metadata": {
    "colab": {
      "name": "COVID-19 Detector.ipynb",
      "provenance": [],
      "collapsed_sections": []
    },
    "kernelspec": {
      "name": "python3",
      "display_name": "Python 3"
    },
    "language_info": {
      "name": "python"
    },
    "accelerator": "GPU"
  },
  "cells": [
    {
      "cell_type": "code",
      "metadata": {
        "id": "XgUBvi2I9GCy"
      },
      "source": [
        "import numpy as np\n",
        "import pandas as pd\n",
        "from keras.layers import *\n",
        "from keras.models import *\n",
        "from keras.preprocessing import image\n",
        "from keras.metrics import accuracy, binary_crossentropy\n",
        "from keras.optimizers import Adam\n",
        "from keras.regularizers import l2\n",
        "import os"
      ],
      "execution_count": null,
      "outputs": []
    },
    {
      "cell_type": "code",
      "metadata": {
        "id": "j2o2yejS8PZ0"
      },
      "source": [
        "if (not os.path.exists(\"CovidDataset.zip\")):\n",
        "  # Download the dataset file from dropbox\n",
        "  !wget https://www.dropbox.com/s/tlsdn617iymz3bf/CovidDataset.zip\n",
        "if (not os.path.exists(\"Dataset/\")):\n",
        "  # Unzip the filed\n",
        "  !unzip CovidDataset.zip"
      ],
      "execution_count": null,
      "outputs": []
    },
    {
      "cell_type": "code",
      "metadata": {
        "id": "yBPPkrRb87hD"
      },
      "source": [
        "TRAIN_PATH = \"DataSet/Train\"\n",
        "VAL_PATH = \"DataSet/Val\""
      ],
      "execution_count": null,
      "outputs": []
    },
    {
      "cell_type": "code",
      "metadata": {
        "id": "RXjR3BZ49SOQ"
      },
      "source": [
        "# Build CNN Based Model in Keras\n",
        "model = Sequential()\n",
        "model.add(Conv2D(32, kernel_size = (3,3), activation = 'relu', input_shape = (224, 224, 3)))\n",
        "model.add(Conv2D(64, (3, 3), activation = 'relu'))\n",
        "model.add(MaxPooling2D(pool_size = (2, 2)))\n",
        "model.add(Dropout(0.25))\n",
        "\n",
        "model.add(Conv2D(64, (3, 3), activation = 'relu'))\n",
        "model.add(MaxPooling2D(pool_size = (2, 2)))\n",
        "model.add(Dropout(0.25))\n",
        "\n",
        "model.add(Conv2D(128, (3, 3), activation = 'relu'))\n",
        "model.add(MaxPooling2D(pool_size = (2, 2)))\n",
        "model.add(Dropout(0.5))\n",
        "\n",
        "model.add(Flatten())\n",
        "model.add(Dense(64, activation = 'relu'))\n",
        "model.add(Dropout(0.5))\n",
        "model.add(Dense(1, activation = 'sigmoid'))"
      ],
      "execution_count": null,
      "outputs": []
    },
    {
      "cell_type": "code",
      "metadata": {
        "id": "bTeN5T1sAYl5"
      },
      "source": [
        "# Compile the model\n",
        "model.compile(loss = \"binary_crossentropy\", \n",
        "              optimizer = 'adam', \n",
        "              metrics = ['accuracy'])"
      ],
      "execution_count": null,
      "outputs": []
    },
    {
      "cell_type": "code",
      "metadata": {
        "id": "3IYwxxe5BUAm"
      },
      "source": [
        "# Summary of the Model\n",
        "model.summary()"
      ],
      "execution_count": null,
      "outputs": []
    },
    {
      "cell_type": "code",
      "metadata": {
        "id": "WdfDcdUUBYHT"
      },
      "source": [
        "# Processing the images\n",
        "train_datagen = image.ImageDataGenerator(\n",
        "    rescale = 1/255.,\n",
        "    shear_range = 0.2,\n",
        "    zoom_range = 0.2,\n",
        "    horizontal_flip = True\n",
        ")\n",
        "\n",
        "val_datagen = image.ImageDataGenerator(rescale = 1/255.)"
      ],
      "execution_count": null,
      "outputs": []
    },
    {
      "cell_type": "code",
      "metadata": {
        "id": "FHv_FIOCCaw8"
      },
      "source": [
        "train_generator = train_datagen.flow_from_directory(\n",
        "    'Dataset/Train',\n",
        "    target_size = (224, 224),\n",
        "    batch_size = 32,\n",
        "    class_mode = 'binary'\n",
        ")"
      ],
      "execution_count": null,
      "outputs": []
    },
    {
      "cell_type": "code",
      "metadata": {
        "id": "rxsZQ3jZDDCD"
      },
      "source": [
        "val_generator = val_datagen.flow_from_directory(\n",
        "    'Dataset/Val',\n",
        "    target_size = (224, 224),\n",
        "    batch_size = 32,\n",
        "    class_mode = 'binary'\n",
        "    \n",
        ")"
      ],
      "execution_count": null,
      "outputs": []
    },
    {
      "cell_type": "code",
      "metadata": {
        "id": "fEe2he3rET_D"
      },
      "source": [
        "history = model.fit(\n",
        "    train_generator,\n",
        "    steps_per_epoch = 8,\n",
        "    epochs = 20,\n",
        "    validation_data = val_generator,\n",
        "    validation_steps = 2\n",
        ")"
      ],
      "execution_count": null,
      "outputs": []
    },
    {
      "cell_type": "code",
      "metadata": {
        "id": "_qQmazMZGD0R"
      },
      "source": [
        "# Evaluate the model\n",
        "model.evaluate(val_generator)"
      ],
      "execution_count": null,
      "outputs": []
    },
    {
      "cell_type": "code",
      "metadata": {
        "id": "2s1oxwNagAiy"
      },
      "source": [
        "train_acc = round(history.history['accuracy'][-1], 2) * 100\n",
        "val_acc = round(history.history['val_accuracy'][-1], 2) * 100"
      ],
      "execution_count": null,
      "outputs": []
    },
    {
      "cell_type": "code",
      "metadata": {
        "id": "n7N2qaEKh6-b"
      },
      "source": [
        "print(f\"The Training accuracy is {train_acc * 100}%\")\n",
        "print(f\"The validation accuracy is {val_acc * 100}%\")"
      ],
      "execution_count": null,
      "outputs": []
    },
    {
      "cell_type": "code",
      "metadata": {
        "id": "c47J0DebGRQH"
      },
      "source": [
        "model.save(f\"cnn-cxr-acc-{val_acc}_bs-32_epochs-20.h5\")\n",
        "print(f\"Model saved with {val_acc} % accuracy.\")"
      ],
      "execution_count": null,
      "outputs": []
    },
    {
      "cell_type": "code",
      "metadata": {
        "id": "iuL2vWxXmgbs"
      },
      "source": [
        ""
      ],
      "execution_count": null,
      "outputs": []
    },
    {
      "cell_type": "code",
      "metadata": {
        "id": "hkD3I8f2nsan"
      },
      "source": [
        "# Modify 'test1.jpg' and 'test2.jpg' to the images you want to predict on\n",
        "from keras.models import load_model\n",
        "from keras.preprocessing import image\n",
        "import numpy as np\n",
        "\n",
        "def classify_cxr(img_path):\n",
        "  # dimensions of our images\n",
        "  img_width, img_height = 224, 224\n",
        "\n",
        "  # load the model we saved\n",
        "  model = load_model('cnn-cxr-acc-98.44_bs-32_epochs-20.h5')\n",
        "  model.compile(loss='binary_crossentropy',\n",
        "                optimizer='adam',\n",
        "                metrics=['accuracy'])\n",
        "\n",
        "  # predicting images\n",
        "  img = image.load_img(img_path, target_size = (img_width, img_height))\n",
        "  x = image.img_to_array(img)\n",
        "  x = np.expand_dims(x, axis=0)\n",
        "\n",
        "  images = np.vstack([x])\n",
        "  predict_class = model.predict(images)\n",
        "  return predict_class[0][0]\n",
        "\n",
        "img_base_path = \"Dataset/Train/Normal/\"\n",
        "img_names = os.listdir(img_base_path)\n",
        "img_path = img_base_path + img_names[10]\n",
        "\n",
        "classified = classify_cxr(img_path)\n",
        "\n",
        "if (int(classified) == 0):\n",
        "  print(f\"Reslut: Covid Chest XRay\")\n",
        "else:\n",
        "  print(f\"Reslut: Non-Covid Chest XRay\")"
      ],
      "execution_count": null,
      "outputs": []
    },
    {
      "cell_type": "code",
      "metadata": {
        "id": "fm1mYp-UucT3"
      },
      "source": [
        "!pip freeze > requirements.txt"
      ],
      "execution_count": null,
      "outputs": []
    }
  ]
}